{
 "cells": [
  {
   "cell_type": "markdown",
   "metadata": {
    "id": "-rX8cvHCzany",
    "jp-MarkdownHeadingCollapsed": true
   },
   "source": [
    "# Задача\n",
    "В этой работе вам предлагается решить задачу бинарной классификации, а именно построить алгоритм, определяющий превысит ли средний заработок человека порог $50k. Каждый объект выборки — человек, для которого известны следующие признаки:\n",
    " - age\n",
    " - workclass\n",
    " - fnlwgt\n",
    " - education\n",
    " - education-num\n",
    " - marital-status\n",
    " - occupation\n",
    " - relationship\n",
    " - race\n",
    " - sex\n",
    " - capital-gain\n",
    " - capital-loss\n",
    " - hours-per-week\n",
    " \n",
    "Более подробно про признаки можно почитать [здесь](http://archive.ics.uci.edu/ml/machine-learning-databases/adult/adult.names). Целевой признак записан в переменной *>50K,<=50K*.\n",
    "\n",
    "В этой задаче для обучения будут использовать 2 алгоритма:\n",
    " - [kNN](http://scikit-learn.org/stable/modules/generated/sklearn.neighbors.KNeighborsClassifier.html)\n",
    " - [DecisonTree](http://scikit-learn.org/stable/modules/generated/sklearn.tree.DecisionTreeClassifier.html#sklearn.tree.DecisionTreeClassifier)"
   ]
  },
  {
   "cell_type": "markdown",
   "metadata": {
    "id": "yKvOO2LGzan3"
   },
   "source": [
    "# Решение"
   ]
  },
  {
   "cell_type": "markdown",
   "metadata": {
    "id": "MrewBnQJibsR"
   },
   "source": [
    "Загрузите набор данных *data.adult.csv* с помощью `pandas` (скачать можно [здесь](https://drive.google.com/file/d/1Lo47fXx1RrJG3v9E-Gck1T45n5bJ_SJf/view?usp=sharing), или с помощью скрипта ниже). Чтобы лучше понимать, с чем вы работаете/корректно ли вы загрузили данные можно вывести несколько первых строк на экран."
   ]
  },
  {
   "cell_type": "code",
   "execution_count": 1,
   "metadata": {
    "colab": {
     "base_uri": "https://localhost:8080/"
    },
    "executionInfo": {
     "elapsed": 625,
     "status": "ok",
     "timestamp": 1684075168526,
     "user": {
      "displayName": "Preety Kallhar",
      "userId": "11006781701043827606"
     },
     "user_tz": -180
    },
    "id": "So-LVYjsibsU",
    "outputId": "73434a79-5eac-4c26-aba4-4060095f59b0"
   },
   "outputs": [],
   "source": [
    "#!gdown 1Lo47fXx1RrJG3v9E-Gck1T45n5bJ_SJf"
   ]
  },
  {
   "cell_type": "code",
   "execution_count": 2,
   "metadata": {
    "id": "mpDKy6jCzan6"
   },
   "outputs": [],
   "source": [
    "import pandas as pd\n",
    "import seaborn as sns\n",
    "import numpy as np\n",
    "import matplotlib.pyplot as plt \n",
    "import seaborn as sns\n",
    "import scikitplot \n",
    "import warnings\n",
    "from sklearn import preprocessing\n",
    "from sklearn.preprocessing import OneHotEncoder, StandardScaler\n",
    "from sklearn.linear_model import LogisticRegression\n",
    "from sklearn.metrics import accuracy_score, f1_score, r2_score, make_scorer\n",
    "from sklearn.decomposition import PCA\n",
    "from sklearn.tree import DecisionTreeClassifier\n",
    "from sklearn.ensemble import BaggingClassifier, RandomForestClassifier\n",
    "from sklearn.datasets import make_classification\n",
    "from sklearn.manifold import TSNE\n",
    "from sklearn.neighbors import KNeighborsClassifier\n",
    "from sklearn.model_selection import train_test_split, RandomizedSearchCV, KFold, StratifiedShuffleSplit, GridSearchCV\n",
    "import time\n",
    "\n",
    "pd.options.mode.copy_on_write = True"
   ]
  },
  {
   "cell_type": "code",
   "execution_count": 3,
   "metadata": {
    "scrolled": true
   },
   "outputs": [
    {
     "name": "stdout",
     "output_type": "stream",
     "text": [
      "(16280, 14)\n"
     ]
    }
   ],
   "source": [
    "data = pd.read_csv('data_adult.csv', delimiter=',')\n",
    "print(data.shape)"
   ]
  },
  {
   "cell_type": "code",
   "execution_count": 4,
   "metadata": {},
   "outputs": [
    {
     "name": "stdout",
     "output_type": "stream",
     "text": [
      "       age  workclass  fnlwgt     education  education-num  \\\n",
      "0       34  Local-gov  284843       HS-grad              9   \n",
      "1       40    Private  190290  Some-college             10   \n",
      "2       36  Local-gov  177858     Bachelors             13   \n",
      "3       22    Private  184756  Some-college             10   \n",
      "4       47    Private  149700     Bachelors             13   \n",
      "...    ...        ...     ...           ...            ...   \n",
      "16275   25  Local-gov  514716     Bachelors             13   \n",
      "16276   32    Private  207668     Bachelors             13   \n",
      "16277   27    Private  104457     Bachelors             13   \n",
      "16278   59  State-gov  268700       HS-grad              9   \n",
      "16279   33    Private   59083     Bachelors             13   \n",
      "\n",
      "           marital-status         occupation   relationship  \\\n",
      "0           Never-married    Farming-fishing  Not-in-family   \n",
      "1                Divorced              Sales  Not-in-family   \n",
      "2      Married-civ-spouse     Prof-specialty      Own-child   \n",
      "3           Never-married              Sales      Own-child   \n",
      "4      Married-civ-spouse       Tech-support        Husband   \n",
      "...                   ...                ...            ...   \n",
      "16275       Never-married       Adm-clerical      Own-child   \n",
      "16276  Married-civ-spouse    Exec-managerial        Husband   \n",
      "16277       Never-married  Machine-op-inspct  Not-in-family   \n",
      "16278  Married-civ-spouse      Other-service        Husband   \n",
      "16279  Married-civ-spouse       Adm-clerical        Husband   \n",
      "\n",
      "                     race     sex  capital-gain  capital-loss  hours-per-week  \\\n",
      "0                   Black    Male           594             0              60   \n",
      "1                   White    Male             0             0              40   \n",
      "2                   White    Male             0             0              40   \n",
      "3                   White  Female             0             0              30   \n",
      "4                   White    Male         15024             0              40   \n",
      "...                   ...     ...           ...           ...             ...   \n",
      "16275               Black  Female             0             0              40   \n",
      "16276               White    Male         15024             0              45   \n",
      "16277  Asian-Pac-Islander    Male             0             0              40   \n",
      "16278               White    Male             0             0              40   \n",
      "16279               White    Male             0          1902              45   \n",
      "\n",
      "      >50K,<=50K  \n",
      "0          <=50K  \n",
      "1          <=50K  \n",
      "2          <=50K  \n",
      "3          <=50K  \n",
      "4           >50K  \n",
      "...          ...  \n",
      "16275      <=50K  \n",
      "16276       >50K  \n",
      "16277      <=50K  \n",
      "16278      <=50K  \n",
      "16279       >50K  \n",
      "\n",
      "[16280 rows x 14 columns]\n"
     ]
    }
   ],
   "source": [
    "print(data)"
   ]
  },
  {
   "cell_type": "code",
   "execution_count": 5,
   "metadata": {},
   "outputs": [
    {
     "name": "stdout",
     "output_type": "stream",
     "text": [
      "                age        fnlwgt  education-num  capital-gain  capital-loss  \\\n",
      "count  16280.000000  1.628000e+04   16280.000000  16280.000000  16280.000000   \n",
      "mean      38.635074  1.894594e+05      10.098219   1020.417752     86.696314   \n",
      "std       13.635301  1.066644e+05       2.567690   6862.041550    402.308715   \n",
      "min       17.000000  1.930200e+04       1.000000      0.000000      0.000000   \n",
      "25%       28.000000  1.170068e+05       9.000000      0.000000      0.000000   \n",
      "50%       37.000000  1.781340e+05      10.000000      0.000000      0.000000   \n",
      "75%       48.000000  2.371630e+05      12.000000      0.000000      0.000000   \n",
      "max       90.000000  1.484705e+06      16.000000  99999.000000   4356.000000   \n",
      "\n",
      "       hours-per-week  \n",
      "count    16280.000000  \n",
      "mean        40.403686  \n",
      "std         12.341191  \n",
      "min          1.000000  \n",
      "25%         40.000000  \n",
      "50%         40.000000  \n",
      "75%         45.000000  \n",
      "max         99.000000  \n",
      "<class 'pandas.core.frame.DataFrame'>\n",
      "RangeIndex: 16280 entries, 0 to 16279\n",
      "Data columns (total 14 columns):\n",
      " #   Column          Non-Null Count  Dtype \n",
      "---  ------          --------------  ----- \n",
      " 0   age             16280 non-null  int64 \n",
      " 1   workclass       16280 non-null  object\n",
      " 2   fnlwgt          16280 non-null  int64 \n",
      " 3   education       16280 non-null  object\n",
      " 4   education-num   16280 non-null  int64 \n",
      " 5   marital-status  16280 non-null  object\n",
      " 6   occupation      16280 non-null  object\n",
      " 7   relationship    16280 non-null  object\n",
      " 8   race            16280 non-null  object\n",
      " 9   sex             16280 non-null  object\n",
      " 10  capital-gain    16280 non-null  int64 \n",
      " 11  capital-loss    16280 non-null  int64 \n",
      " 12  hours-per-week  16280 non-null  int64 \n",
      " 13  >50K,<=50K      16280 non-null  object\n",
      "dtypes: int64(6), object(8)\n",
      "memory usage: 1.7+ MB\n",
      "None\n"
     ]
    }
   ],
   "source": [
    "print(data.describe())\n",
    "print(data.info())"
   ]
  },
  {
   "attachments": {},
   "cell_type": "markdown",
   "metadata": {},
   "source": [
    "<span style=\"color:orange\">\n",
    "Итого на данный момент мы имеем 16280 строк и 14 признаков <br/>\n",
    "Формат данных следующий: <br/>\n",
    "\n",
    "Age: int \\\n",
    "workclass: str \\\n",
    "fnlwgt: int\\\n",
    "education: str\\\n",
    "education-num: int \\\n",
    "marital-status: str\\\n",
    "occupation: str\\\n",
    "relationship:str\\\n",
    "race: str\\\n",
    "sex: str\\\n",
    "capital-gain: int\\\n",
    "capital-loss: int \\\n",
    "hours-per-week: int\\\n",
    "'>50K,<=50K' : str\\\n",
    "</span>"
   ]
  },
  {
   "cell_type": "markdown",
   "metadata": {
    "id": "WTJwqn6Xzan6"
   },
   "source": [
    "## Анализ и предобработка данных\n",
    "\n",
    "Обычно после загрузки датасета всегда необходима его некоторая предобработка. В данном случае она будет заключаться в следующем: \n",
    "1. Проверьте есть ли в данных пропущенные значения (здесь они обозначены как \"?\"). Удалите из выборки все объекты с пропусками.\n",
    "2. Выделите 60% выборки для обучения и дальнейшего анализа.\n",
    "3. Обратите внимание, что не все признаки являются вещественными (числовыми). Сначала их необходимо проанализировать и по необходимости предобработать. Все шаги предобработки поясните текстом.\n",
    "4. Целевую переменную (ту, которую мы хотим предсказывать) можно выделить в отдельную переменную и преобразуйте к бинарному формату (НЕ забудьте удалить ее из датасета, когда будете обучать модель).\n"
   ]
  },
  {
   "cell_type": "code",
   "execution_count": 6,
   "metadata": {
    "id": "3LCu1pI4zan6"
   },
   "outputs": [
    {
     "name": "stdout",
     "output_type": "stream",
     "text": [
      "occupation        933\n",
      "workclass         929\n",
      "age                 0\n",
      "fnlwgt              0\n",
      "education           0\n",
      "education-num       0\n",
      "marital-status      0\n",
      "relationship        0\n",
      "race                0\n",
      "sex                 0\n",
      "capital-gain        0\n",
      "capital-loss        0\n",
      "hours-per-week      0\n",
      ">50K,<=50K          0\n",
      "dtype: int64\n",
      "\n",
      "\n",
      "168\n"
     ]
    }
   ],
   "source": [
    "df = data.copy()\n",
    "mask_Null = (df[:] == '?')\n",
    "number_Null = mask_Null.sum().sort_values(ascending=False)\n",
    "print(number_Null)\n",
    "\n",
    "print('\\n')\n",
    "print(df[df.duplicated()].size)"
   ]
  },
  {
   "cell_type": "markdown",
   "metadata": {},
   "source": [
    "<span style=\"color:orange\">\n",
    "Из данных видно, что примерно 1000 строк имеют пропуски.<br/>  \n",
    "И присутствует 168 дублей.<br/> \n",
    "Почистим данные.<br/> \n",
    "Понятно, что сразу можно бинаризовать столбцы: sex, и таргет (>50K,<=50K), так как они двоичные.<br/>\n",
    "Для поля 'sex' - 1 если мужчина, 0 если женщина.<br/>\n",
    "Для поля '>50K,<=50K' - 1 если >50K, 0 если <=50K.<br/>\n",
    "</span>"
   ]
  },
  {
   "cell_type": "code",
   "execution_count": 7,
   "metadata": {},
   "outputs": [
    {
     "name": "stdout",
     "output_type": "stream",
     "text": [
      "(15335, 14)\n",
      "age               0\n",
      "workclass         0\n",
      "fnlwgt            0\n",
      "education         0\n",
      "education-num     0\n",
      "marital-status    0\n",
      "occupation        0\n",
      "relationship      0\n",
      "race              0\n",
      "sex               0\n",
      "capital-gain      0\n",
      "capital-loss      0\n",
      "hours-per-week    0\n",
      ">50K,<=50K        0\n",
      "dtype: int64\n",
      "0\n",
      "       age  workclass  fnlwgt     education  education-num  \\\n",
      "0       34  Local-gov  284843       HS-grad              9   \n",
      "1       40    Private  190290  Some-college             10   \n",
      "2       36  Local-gov  177858     Bachelors             13   \n",
      "3       22    Private  184756  Some-college             10   \n",
      "4       47    Private  149700     Bachelors             13   \n",
      "...    ...        ...     ...           ...            ...   \n",
      "15330   25  Local-gov  514716     Bachelors             13   \n",
      "15331   32    Private  207668     Bachelors             13   \n",
      "15332   27    Private  104457     Bachelors             13   \n",
      "15333   59  State-gov  268700       HS-grad              9   \n",
      "15334   33    Private   59083     Bachelors             13   \n",
      "\n",
      "           marital-status         occupation   relationship  \\\n",
      "0           Never-married    Farming-fishing  Not-in-family   \n",
      "1                Divorced              Sales  Not-in-family   \n",
      "2      Married-civ-spouse     Prof-specialty      Own-child   \n",
      "3           Never-married              Sales      Own-child   \n",
      "4      Married-civ-spouse       Tech-support        Husband   \n",
      "...                   ...                ...            ...   \n",
      "15330       Never-married       Adm-clerical      Own-child   \n",
      "15331  Married-civ-spouse    Exec-managerial        Husband   \n",
      "15332       Never-married  Machine-op-inspct  Not-in-family   \n",
      "15333  Married-civ-spouse      Other-service        Husband   \n",
      "15334  Married-civ-spouse       Adm-clerical        Husband   \n",
      "\n",
      "                     race  sex  capital-gain  capital-loss  hours-per-week  \\\n",
      "0                   Black    1           594             0              60   \n",
      "1                   White    1             0             0              40   \n",
      "2                   White    1             0             0              40   \n",
      "3                   White    0             0             0              30   \n",
      "4                   White    1         15024             0              40   \n",
      "...                   ...  ...           ...           ...             ...   \n",
      "15330               Black    0             0             0              40   \n",
      "15331               White    1         15024             0              45   \n",
      "15332  Asian-Pac-Islander    1             0             0              40   \n",
      "15333               White    1             0             0              40   \n",
      "15334               White    1             0          1902              45   \n",
      "\n",
      "       >50K,<=50K  \n",
      "0               0  \n",
      "1               0  \n",
      "2               0  \n",
      "3               0  \n",
      "4               1  \n",
      "...           ...  \n",
      "15330           0  \n",
      "15331           1  \n",
      "15332           0  \n",
      "15333           0  \n",
      "15334           1  \n",
      "\n",
      "[15335 rows x 14 columns]\n"
     ]
    }
   ],
   "source": [
    "df = df.loc[(df['occupation'] != '?') & (df['workclass'] != '?')]\n",
    "df.drop_duplicates(inplace=True, ignore_index=True)\n",
    "print(df.shape)\n",
    "df['sex'] = [1 if i == 'Male' else 0 for i in df['sex']]\n",
    "df['>50K,<=50K'] = [1 if i == '>50K' else 0 for i in df['>50K,<=50K']]\n",
    "\n",
    "mask_Null = (df[:] == '?')\n",
    "number_Null = mask_Null.sum().sort_values(ascending=False)\n",
    "print(number_Null)\n",
    "print(df[df.duplicated()].size)\n",
    "print(df)"
   ]
  },
  {
   "cell_type": "markdown",
   "metadata": {},
   "source": [
    "<span style=\"color:orange\">\n",
    "После чистки пропусков осталось 15335 строк.<br/>   \n",
    "Теперь необходимо преобразовать данные в числовой формат.<br/>   \n",
    "Для этого рассмотрим на каком множестве значений находится каждый из признаков.<br/>    \n"
   ]
  },
  {
   "cell_type": "code",
   "execution_count": 8,
   "metadata": {},
   "outputs": [
    {
     "name": "stdout",
     "output_type": "stream",
     "text": [
      "age\n",
      "[34 40 36 22 47 18 31 25 53 19 44 20 28 35 38 30 37 64 41 42 33 48 60 43\n",
      " 26 32 39 50 59 52 29 51 46 54 24 27 45 81 49 61 90 21 55 23 63 65 17 67\n",
      " 57 72 58 56 62 80 76 68 71 75 74 66 70 69 78 79 73 85 88 77 83 84 86 82] \n",
      "\n",
      "Size of the fiture is: 72\n",
      "MIN: 17\n",
      "MAX 90\n",
      "\n",
      "\n",
      "\n",
      "workclass\n",
      "['Local-gov' 'Private' 'Federal-gov' 'Self-emp-inc' 'State-gov'\n",
      " 'Self-emp-not-inc' 'Without-pay'] \n",
      "\n",
      "Size of the fiture is: 7\n",
      "MIN: Federal-gov\n",
      "MAX Without-pay\n",
      "\n",
      "\n",
      "\n",
      "fnlwgt\n",
      "[284843 190290 177858 ... 514716 104457 268700] \n",
      "\n",
      "Size of the fiture is: 12065\n",
      "MIN: 19302\n",
      "MAX 1484705\n",
      "\n",
      "\n",
      "\n",
      "education\n",
      "['HS-grad' 'Some-college' 'Bachelors' 'Assoc-acdm' '12th' 'Doctorate'\n",
      " '1st-4th' '7th-8th' 'Masters' '5th-6th' '11th' '9th' 'Assoc-voc'\n",
      " 'Prof-school' '10th' 'Preschool'] \n",
      "\n",
      "Size of the fiture is: 16\n",
      "MIN: 10th\n",
      "MAX Some-college\n",
      "\n",
      "\n",
      "\n",
      "education-num\n",
      "[ 9 10 13 12  8 16  2  4 14  3  7  5 11 15  6  1] \n",
      "\n",
      "Size of the fiture is: 16\n",
      "MIN: 1\n",
      "MAX 16\n",
      "\n",
      "\n",
      "\n",
      "marital-status\n",
      "['Never-married' 'Divorced' 'Married-civ-spouse' 'Separated'\n",
      " 'Married-spouse-absent' 'Married-AF-spouse' 'Widowed'] \n",
      "\n",
      "Size of the fiture is: 7\n",
      "MIN: Divorced\n",
      "MAX Widowed\n",
      "\n",
      "\n",
      "\n",
      "occupation\n",
      "['Farming-fishing' 'Sales' 'Prof-specialty' 'Tech-support' 'Adm-clerical'\n",
      " 'Other-service' 'Machine-op-inspct' 'Protective-serv' 'Transport-moving'\n",
      " 'Exec-managerial' 'Craft-repair' 'Handlers-cleaners' 'Priv-house-serv'\n",
      " 'Armed-Forces'] \n",
      "\n",
      "Size of the fiture is: 14\n",
      "MIN: Adm-clerical\n",
      "MAX Transport-moving\n",
      "\n",
      "\n",
      "\n",
      "relationship\n",
      "['Not-in-family' 'Own-child' 'Husband' 'Unmarried' 'Wife' 'Other-relative'] \n",
      "\n",
      "Size of the fiture is: 6\n",
      "MIN: Husband\n",
      "MAX Wife\n",
      "\n",
      "\n",
      "\n",
      "race\n",
      "['Black' 'White' 'Amer-Indian-Eskimo' 'Asian-Pac-Islander' 'Other'] \n",
      "\n",
      "Size of the fiture is: 5\n",
      "MIN: Amer-Indian-Eskimo\n",
      "MAX White\n",
      "\n",
      "\n",
      "\n",
      "sex\n",
      "[1 0] \n",
      "\n",
      "Size of the fiture is: 2\n",
      "MIN: 0\n",
      "MAX 1\n",
      "\n",
      "\n",
      "\n",
      "capital-gain\n",
      "[  594     0 15024  7443  4787  3103  7688  4650  3908  2977  2829  2174\n",
      "  9386  3325  2407  5178  7298  2414  2885 10520 13550 99999  4416 14344\n",
      "  4386  6497  2176  4064  8614 14084  7896  3464  1055  2580  6849 27828\n",
      "  6767  5013  2346  4865  6418  3432  4101  4934  3411  5721  2597  1506\n",
      "   114  1831  2653  3781 20051  1797  2463  3418  3471  1424  2635  2936\n",
      "  2354 10605  2964 11678  3818  2105  3674  3887  3137  1151  2290  2907\n",
      " 25236  1471  1173  5060  4508  4931  4687 10566  6514  2329 15831  1409\n",
      "  7430  2009  2202  5455  6360  3273  7978 15020  2050  2036 18481 34095\n",
      "   914 25124  2538  2961  2062  6097  3942  2387   401] \n",
      "\n",
      "Size of the fiture is: 105\n",
      "MIN: 0\n",
      "MAX 99999\n",
      "\n",
      "\n",
      "\n",
      "capital-loss\n",
      "[   0 2042 1579 1573 1977 1564 1876 1138 1902 2339 1590  625 1887 2444\n",
      " 2415 1651 2002 1974  213 1092 3004 1741 1504 2129 2231 1485 1848 1672\n",
      " 2149 2258 2246  323 2559 1628 2001 2377 2205 1721 1740 2051 1755 1719\n",
      " 1594 1408 2179 1980 1602 1669 1380 2603 2057 1411  974 2547 1762 2392\n",
      " 2824 2467 2206 3770  880 1617 1648 1258 1944  419 1726 1816 2352 1825\n",
      " 2754 2457 1539  810 1340 1668 3900 2238 2174 2267  653] \n",
      "\n",
      "Size of the fiture is: 81\n",
      "MIN: 0\n",
      "MAX 3900\n",
      "\n",
      "\n",
      "\n",
      "hours-per-week\n",
      "[60 40 30 25 48 57 55 45 11 50 35 46 12 16 64 15 38 20 37 44 10 70  8 39\n",
      " 42 36 43 65 22  9 80 27 52 34 99 56 32 54  4 94  6 24 53 28 85 62 49 72\n",
      " 75 84 98 90 19  5 14 18 41 26 33 66 31 21  3 51 47 17 23 91 58 68 97  2\n",
      " 59 63 77  1  7 78 76 89 13 96 88 87 81 29 67 74 86 95 73 61] \n",
      "\n",
      "Size of the fiture is: 92\n",
      "MIN: 1\n",
      "MAX 99\n",
      "\n",
      "\n",
      "\n",
      ">50K,<=50K\n",
      "[0 1] \n",
      "\n",
      "Size of the fiture is: 2\n",
      "MIN: 0\n",
      "MAX 1\n",
      "\n",
      "\n",
      "\n"
     ]
    }
   ],
   "source": [
    "column_names = df.columns.tolist()\n",
    "for n in column_names:\n",
    "    print(n)\n",
    "    print(df[n].unique(), '\\n')\n",
    "    print('Size of the fiture is:', (df[n].unique()).size)\n",
    "    print('MIN:', df[n].min())\n",
    "    print('MAX', df[n].max())\n",
    "    print('\\n\\n')"
   ]
  },
  {
   "cell_type": "markdown",
   "metadata": {},
   "source": [
    "<span style=\"color:orange\">\n",
    "Теперь разобьём данные на трейновую и тестовую части для чистоты эксперимента, чтобы избежать утечек.<br/>\n",
    "Дальше работаем только с train частью.<br/>\n",
    "  "
   ]
  },
  {
   "cell_type": "code",
   "execution_count": 9,
   "metadata": {
    "scrolled": true
   },
   "outputs": [
    {
     "name": "stdout",
     "output_type": "stream",
     "text": [
      "(9201, 14)\n",
      "       age         workclass  fnlwgt     education  education-num  \\\n",
      "7822    46           Private  150499    Assoc-acdm             12   \n",
      "1066    69      Self-emp-inc  169717     Bachelors             13   \n",
      "10356   26           Private  109570  Some-college             10   \n",
      "11399   54           Private  326156  Some-college             10   \n",
      "9551    49         Local-gov  215895       Masters             14   \n",
      "...    ...               ...     ...           ...            ...   \n",
      "13123   60           Private  175273       HS-grad              9   \n",
      "3264    54         Local-gov  169785       Masters             14   \n",
      "9845    32  Self-emp-not-inc  154950  Some-college             10   \n",
      "10799   30           Private  143526     Bachelors             13   \n",
      "2732    51           Private  230858  Some-college             10   \n",
      "\n",
      "           marital-status         occupation relationship   race  sex  \\\n",
      "7822   Married-civ-spouse       Craft-repair      Husband  White    1   \n",
      "1066   Married-civ-spouse    Exec-managerial      Husband  White    1   \n",
      "10356           Separated              Sales    Unmarried  White    0   \n",
      "11399  Married-civ-spouse       Craft-repair      Husband  White    1   \n",
      "9551   Married-civ-spouse       Adm-clerical      Husband  White    1   \n",
      "...                   ...                ...          ...    ...  ...   \n",
      "13123             Widowed  Machine-op-inspct    Unmarried  White    0   \n",
      "3264              Widowed     Prof-specialty    Unmarried  White    0   \n",
      "9845   Married-civ-spouse       Craft-repair      Husband  White    1   \n",
      "10799       Never-married              Sales    Own-child  White    1   \n",
      "2732   Married-civ-spouse       Craft-repair      Husband  White    1   \n",
      "\n",
      "       capital-gain  capital-loss  hours-per-week  >50K,<=50K  \n",
      "7822              0             0              40           0  \n",
      "1066           6418             0              45           1  \n",
      "10356             0             0              35           0  \n",
      "11399             0             0              40           1  \n",
      "9551              0             0              40           1  \n",
      "...             ...           ...             ...         ...  \n",
      "13123             0             0              40           0  \n",
      "3264              0             0              38           0  \n",
      "9845              0             0              30           0  \n",
      "10799             0             0              40           0  \n",
      "2732              0          1977              60           1  \n",
      "\n",
      "[9201 rows x 14 columns]\n"
     ]
    }
   ],
   "source": [
    "train, test = train_test_split(df, test_size= 0.4, random_state= 0)\n",
    "ind_train = train.index.values\n",
    "ind_test = test.index.values\n",
    "\n",
    "print(train.shape)\n",
    "print(train)\n",
    "#print(ind_train)"
   ]
  },
  {
   "cell_type": "markdown",
   "metadata": {},
   "source": [
    "<span style=\"color:orange\">\n",
    "Далее приведём графики вероятностей получения зарплаты выше 50K в зависимости от значений каждого из параметров по отдельности.<br/>\n"
   ]
  },
  {
   "cell_type": "code",
   "execution_count": 10,
   "metadata": {},
   "outputs": [
    {
     "name": "stdout",
     "output_type": "stream",
     "text": [
      "{'Self-emp-inc': 0.5522388059701493, 'Federal-gov': 0.3942652329749104, 'Self-emp-not-inc': 0.30200501253132833, 'Local-gov': 0.2953846153846154, 'State-gov': 0.2914572864321608, 'Private': 0.22891923990498814, 'Without-pay': 0.0}\n"
     ]
    },
    {
     "data": {
      "image/png": "[encoded data removed]",
      "text/plain": [
       "<Figure size 640x480 with 1 Axes>"
      ]
     },
     "metadata": {},
     "output_type": "display_data"
    }
   ],
   "source": [
    "work_list = {}\n",
    "for i in train['workclass'].unique():\n",
    "    n = train.loc[(train['workclass'] == i) & (train['>50K,<=50K'] == 1)].shape[0] / \\\n",
    "    train.loc[(train['workclass'] == i)].shape[0]\n",
    "    work_list[i] = n   \n",
    "\n",
    "work_list = dict(sorted(work_list.items(), key=lambda item: item[1], reverse=True))\n",
    "print(work_list)\n",
    "\n",
    "fig, ax = plt.subplots()\n",
    "y_pos = np.arange(len(work_list.keys()))\n",
    "ax.barh(y_pos, work_list.values())\n",
    "ax.set_yticks(y_pos, labels=work_list.keys())\n",
    "plt.show()"
   ]
  },
  {
   "cell_type": "code",
   "execution_count": 11,
   "metadata": {},
   "outputs": [
    {
     "name": "stdout",
     "output_type": "stream",
     "text": [
      "{'Prof-school': 0.7704918032786885, 'Doctorate': 0.7672413793103449, 'Masters': 0.587037037037037, 'Bachelors': 0.43322475570032576, 'Assoc-voc': 0.2623762376237624, 'Assoc-acdm': 0.2229965156794425, 'Some-college': 0.20722057368941643, 'HS-grad': 0.17237903225806453, '7th-8th': 0.09090909090909091, '12th': 0.08333333333333333, '10th': 0.0778688524590164, '9th': 0.05405405405405406, '11th': 0.0473186119873817, '1st-4th': 0.044444444444444446, '5th-6th': 0.03571428571428571, 'Preschool': 0.0}\n"
     ]
    },
    {
     "data": {
      "image/png": "[encoded data removed]",
      "text/plain": [
       "<Figure size 640x480 with 1 Axes>"
      ]
     },
     "metadata": {},
     "output_type": "display_data"
    }
   ],
   "source": [
    "educ_list = {}\n",
    "for i in train['education'].unique():\n",
    "    n = train.loc[(train['education'] == i) & (train['>50K,<=50K'] == 1)].shape[0] / \\\n",
    "    train.loc[(train['education'] == i)].shape[0]\n",
    "    educ_list[i] = n   \n",
    "\n",
    "\n",
    "educ_list = dict(sorted(educ_list.items(), key=lambda item: item[1], reverse=True))\n",
    "print(educ_list)\n",
    "\n",
    "fig, ax = plt.subplots()\n",
    "y_pos = np.arange(len(educ_list.keys()))\n",
    "ax.barh(y_pos, educ_list.values())\n",
    "ax.set_yticks(y_pos, labels=educ_list.keys())\n",
    "plt.show()"
   ]
  },
  {
   "cell_type": "code",
   "execution_count": 12,
   "metadata": {},
   "outputs": [
    {
     "name": "stdout",
     "output_type": "stream",
     "text": [
      "{15: 0.7704918032786885, 16: 0.7672413793103449, 14: 0.587037037037037, 13: 0.43322475570032576, 11: 0.2623762376237624, 12: 0.2229965156794425, 10: 0.20722057368941643, 9: 0.17237903225806453, 4: 0.09090909090909091, 8: 0.08333333333333333, 6: 0.0778688524590164, 5: 0.05405405405405406, 7: 0.0473186119873817, 2: 0.044444444444444446, 3: 0.03571428571428571, 1: 0.0}\n"
     ]
    },
    {
     "data": {
      "image/png": "[encoded data removed]",
      "text/plain": [
       "<Figure size 640x480 with 1 Axes>"
      ]
     },
     "metadata": {},
     "output_type": "display_data"
    }
   ],
   "source": [
    "educ_n_list = {}\n",
    "for i in train['education-num'].unique():\n",
    "    n = train.loc[(train['education-num'] == i) & (train['>50K,<=50K'] == 1)].shape[0] / \\\n",
    "    train.loc[(train['education-num'] == i)].shape[0]\n",
    "    educ_n_list[i] = n   \n",
    "educ_n_list = dict(sorted(educ_n_list.items(), key=lambda item: item[1], reverse=True))\n",
    "print(educ_n_list)\n",
    "\n",
    "fig, ax = plt.subplots()\n",
    "y_pos = np.arange(len(educ_n_list.keys()))\n",
    "ax.barh(y_pos, educ_n_list.values())\n",
    "ax.set_yticks(y_pos, labels=educ_n_list.keys())\n",
    "plt.show()"
   ]
  },
  {
   "cell_type": "code",
   "execution_count": 13,
   "metadata": {},
   "outputs": [
    {
     "name": "stdout",
     "output_type": "stream",
     "text": [
      "{'Married-AF-spouse': 0.5, 'Married-civ-spouse': 0.4642857142857143, 'Married-spouse-absent': 0.11818181818181818, 'Divorced': 0.10471622701838529, 'Widowed': 0.08778625954198473, 'Separated': 0.06060606060606061, 'Never-married': 0.054842068726136756}\n"
     ]
    },
    {
     "data": {
      "image/png": "[encoded data removed]",
      "text/plain": [
       "<Figure size 640x480 with 1 Axes>"
      ]
     },
     "metadata": {},
     "output_type": "display_data"
    }
   ],
   "source": [
    "MS_list = {}\n",
    "for i in train['marital-status'].unique():\n",
    "    n = train.loc[(train['marital-status'] == i) & (train['>50K,<=50K'] == 1)].shape[0] / \\\n",
    "    train.loc[(train['marital-status'] == i)].shape[0]\n",
    "    MS_list[i] = n   \n",
    "\n",
    "MS_list = dict(sorted(MS_list.items(), key=lambda item: item[1], reverse=True))\n",
    "print(MS_list)\n",
    "\n",
    "fig, ax = plt.subplots()\n",
    "y_pos = np.arange(len(MS_list.keys()))\n",
    "ax.barh(y_pos, MS_list.values())\n",
    "ax.set_yticks(y_pos, labels=MS_list.keys())\n",
    "plt.show()"
   ]
  },
  {
   "cell_type": "code",
   "execution_count": 14,
   "metadata": {},
   "outputs": [
    {
     "name": "stdout",
     "output_type": "stream",
     "text": [
      "{'Exec-managerial': 0.501255230125523, 'Armed-Forces': 0.5, 'Prof-specialty': 0.46459824980111375, 'Protective-serv': 0.35714285714285715, 'Tech-support': 0.3037037037037037, 'Sales': 0.28351449275362317, 'Craft-repair': 0.24603174603174602, 'Transport-moving': 0.19750519750519752, 'Adm-clerical': 0.13693693693693693, 'Machine-op-inspct': 0.13333333333333333, 'Farming-fishing': 0.11552346570397112, 'Handlers-cleaners': 0.05263157894736842, 'Other-service': 0.04209445585215606, 'Priv-house-serv': 0.016129032258064516}\n"
     ]
    },
    {
     "data": {
      "image/png": "[encoded data removed]",
      "text/plain": [
       "<Figure size 640x480 with 1 Axes>"
      ]
     },
     "metadata": {},
     "output_type": "display_data"
    }
   ],
   "source": [
    "occupation_list = {}\n",
    "for i in train['occupation'].unique():\n",
    "    n = train.loc[(train['occupation'] == i) & (train['>50K,<=50K'] == 1)].shape[0] / \\\n",
    "    train.loc[(train['occupation'] == i)].shape[0]\n",
    "    occupation_list[i] = n   \n",
    "\n",
    "occupation_list = dict(sorted(occupation_list.items(), key=lambda item: item[1], reverse=True))\n",
    "print(occupation_list)\n",
    "#plt.barh(occupation_list.values(), occupation_list.keys())\n",
    "\n",
    "fig, ax = plt.subplots()\n",
    "y_pos = np.arange(len(occupation_list.keys()))\n",
    "ax.barh(y_pos, occupation_list.values())\n",
    "ax.set_yticks(y_pos, labels=occupation_list.keys())\n",
    "plt.show()"
   ]
  },
  {
   "cell_type": "code",
   "execution_count": 15,
   "metadata": {},
   "outputs": [
    {
     "name": "stdout",
     "output_type": "stream",
     "text": [
      "{'Wife': 0.49676025917926564, 'Husband': 0.4664768314781258, 'Not-in-family': 0.11515151515151516, 'Unmarried': 0.06387434554973823, 'Other-relative': 0.04247104247104247, 'Own-child': 0.011843079200592153}\n"
     ]
    },
    {
     "data": {
      "image/png": "[encoded data removed]",
      "text/plain": [
       "<Figure size 640x480 with 1 Axes>"
      ]
     },
     "metadata": {},
     "output_type": "display_data"
    }
   ],
   "source": [
    "relationship_list = {}\n",
    "for i in train['relationship'].unique():\n",
    "    n = train.loc[(train['relationship'] == i) & (train['>50K,<=50K'] == 1)].shape[0] / \\\n",
    "    train.loc[(train['relationship'] == i)].shape[0]\n",
    "    relationship_list[i] = n   \n",
    "\n",
    "relationship_list = dict(sorted(relationship_list.items(), key=lambda item: item[1], reverse=True))\n",
    "print(relationship_list)\n",
    "\n",
    "fig, ax = plt.subplots()\n",
    "y_pos = np.arange(len(relationship_list.keys()))\n",
    "ax.barh(y_pos, relationship_list.values())\n",
    "ax.set_yticks(y_pos, labels=relationship_list.keys())\n",
    "plt.show()"
   ]
  },
  {
   "cell_type": "code",
   "execution_count": 16,
   "metadata": {},
   "outputs": [
    {
     "name": "stdout",
     "output_type": "stream",
     "text": [
      "{'White': 0.27699590583418626, 'Asian-Pac-Islander': 0.25838926174496646, 'Black': 0.13733905579399142, 'Amer-Indian-Eskimo': 0.10843373493975904, 'Other': 0.09722222222222222}\n"
     ]
    },
    {
     "data": {
      "image/png": "[encoded data removed]",
      "text/plain": [
       "<Figure size 640x480 with 1 Axes>"
      ]
     },
     "metadata": {},
     "output_type": "display_data"
    }
   ],
   "source": [
    "race_list = {}\n",
    "for i in train['race'].unique():\n",
    "    n = train.loc[(train['race'] == i) & (train['>50K,<=50K'] == 1)].shape[0] / \\\n",
    "    train.loc[(train['race'] == i)].shape[0]\n",
    "    race_list[i] = n   \n",
    "\n",
    "race_list = dict(sorted(race_list.items(), key=lambda item: item[1], reverse=True))\n",
    "print(race_list)\n",
    "\n",
    "fig, ax = plt.subplots()\n",
    "y_pos = np.arange(len(race_list.keys()))\n",
    "ax.barh(y_pos, race_list.values())\n",
    "ax.set_yticks(y_pos, labels=race_list.keys())\n",
    "plt.show()"
   ]
  },
  {
   "cell_type": "markdown",
   "metadata": {
    "id": "A58Y5VpIzan_"
   },
   "source": [
    "При обучении алгоритмов стоит обращать внимание не только на их качество, но и каким образом они работают с данными. Давайте посмотрим на значения самих признаков.\n",
    "\n",
    "Что можете сказать о разбросе данных и сбалансированности выборки? Какой из алгоритмов, на ваш взгляд окажется более качественным: логический или метрический? Почему?"
   ]
  },
  {
   "cell_type": "markdown",
   "metadata": {},
   "source": [
    "<span style=\"color:orange\">\n",
    "Так как мы работаем с выборкой людей, есть наивное предположение, что она имеет кластерную структуру, так как люди склонны сбиваться в группы по интересам. Из этого предположения можно сделать вывод, что метрический алгоритм лучше. <br/>\n",
    "Однако лучше обучить оба и посмотреть какой лучше."
   ]
  },
  {
   "cell_type": "markdown",
   "metadata": {
    "id": "NkRMwGjTydZg"
   },
   "source": [
    "## Добавление категориальных признаков\n",
    "\n",
    "Добавим к предобработанным вещественным признакам категориальные. Но для начала их тоже необходимо предобработать.\n",
    "\n",
    "Преобразуйте все категориальные признаки с помощью метода one-hot-encoding (например, это можно сделать с помощью функции [pandas.get_dummies](http://pandas.pydata.org/pandas-docs/stable/generated/pandas.get_dummies.html) или [DictVectorizer](http://scikit-learn.org/stable/modules/generated/sklearn.feature_extraction.DictVectorizer.html) / [OneHotEncoder](http://scikit-learn.org/stable/modules/generated/sklearn.preprocessing.OneHotEncoder.html) из sklearn).\n",
    "\n",
    "После преобразования категориальных признаков, добавьте их к вещественным предобработанным данным для обучения.\n",
    "\n",
    ">PS Напоминаю, что важно удалить колонку с целевым значением"
   ]
  },
  {
   "cell_type": "markdown",
   "metadata": {},
   "source": [
    "<span style=\"color:orange\">\n",
    "    \n",
    "## Вариант 1 \n",
    "Преобразовать все катигориальные признаки посредствам обычного one-hot."
   ]
  },
  {
   "cell_type": "code",
   "execution_count": 17,
   "metadata": {},
   "outputs": [],
   "source": [
    "onehotencoder = OneHotEncoder(handle_unknown='error')\n",
    "\n",
    "df_dencoder = pd.DataFrame(onehotencoder.fit_transform(df[['workclass', 'education', \\\n",
    "'marital-status', 'occupation', 'relationship', 'race']]).toarray())\n",
    "\n",
    "encoded_columns_name = onehotencoder.get_feature_names_out(['workclass', 'education', \\\n",
    "'marital-status', 'occupation', 'relationship', 'race'])\n",
    "dict_column_names = {}\n",
    "for i in range(len(encoded_columns_name)):\n",
    "    dict_column_names[i] = encoded_columns_name[i]\n",
    "df_dencoder.rename(columns=dict_column_names, inplace=True)\n",
    "\n",
    "# df_enc = df.copy()\n",
    "# df_enc = df_enc.join(df_dencoder)\n",
    "# target = df_enc['>50K,<=50K']\n",
    "\n",
    "# df_enc.drop(['workclass', 'education', 'marital-status', 'occupation', 'relationship', 'race', \\\n",
    "# '>50K,<=50K'], axis= 1 , inplace= True)"
   ]
  },
  {
   "cell_type": "code",
   "execution_count": 18,
   "metadata": {},
   "outputs": [],
   "source": [
    "df_enc = df.copy()\n",
    "target = df['>50K,<=50K']\n",
    "df_enc.drop(['workclass', 'education', 'marital-status', 'occupation', 'relationship', 'race', \\\n",
    "'>50K,<=50K'], axis= 1 , inplace= True)\n",
    "\n",
    "df_enc = df_enc.join(df_dencoder)"
   ]
  },
  {
   "cell_type": "markdown",
   "metadata": {},
   "source": [
    "<span style=\"color:orange\">\n",
    "Разбиваем на Train и Test с теми же индексами, что и в начале файла, для предотвращения утечки данных.\n"
   ]
  },
  {
   "cell_type": "code",
   "execution_count": 19,
   "metadata": {},
   "outputs": [],
   "source": [
    "X_train = df_enc.iloc[ind_train]\n",
    "X_test = df_enc.iloc[ind_test]\n",
    "y_train = target.iloc[ind_train]\n",
    "y_test = target.iloc[ind_test]\n",
    "\n",
    "scaler = StandardScaler()\n",
    "X_train_scaled = scaler.fit_transform(X_train)\n",
    "X_test_scaled = scaler.fit_transform(X_test)"
   ]
  },
  {
   "cell_type": "markdown",
   "metadata": {},
   "source": [
    "<span style=\"color:orange\">\n",
    "И применим метод T-SNE для визуализации данных. Причём применим StandardScaler. <br/>\n",
    "Интересен следующий вопрос:<br/>\n",
    "Можно ли утвеждать, что данные разделились на классы, над которыми удобно строить KNN?<br/>\n",
    "На данный момент отвечу на него утвердительно."
   ]
  },
  {
   "cell_type": "code",
   "execution_count": 19,
   "metadata": {
    "scrolled": true
   },
   "outputs": [
    {
     "ename": "KeyboardInterrupt",
     "evalue": "",
     "output_type": "error",
     "traceback": [
      "\u001b[0;31m---------------------------------------------------------------------------\u001b[0m",
      "\u001b[0;31mKeyboardInterrupt\u001b[0m                         Traceback (most recent call last)",
      "Cell \u001b[0;32mIn[19], line 2\u001b[0m\n\u001b[1;32m      1\u001b[0m tsne \u001b[38;5;241m=\u001b[39m TSNE(random_state\u001b[38;5;241m=\u001b[39m\u001b[38;5;241m17\u001b[39m)\n\u001b[0;32m----> 2\u001b[0m tsne_representation \u001b[38;5;241m=\u001b[39m \u001b[43mtsne\u001b[49m\u001b[38;5;241;43m.\u001b[39;49m\u001b[43mfit_transform\u001b[49m\u001b[43m(\u001b[49m\u001b[43mX_train_scaled\u001b[49m\u001b[43m)\u001b[49m\n\u001b[1;32m      3\u001b[0m plt\u001b[38;5;241m.\u001b[39mscatter(tsne_representation[:, \u001b[38;5;241m0\u001b[39m], tsne_representation[:, \u001b[38;5;241m1\u001b[39m]);\n",
      "File \u001b[0;32m~/ML/Girafe/env/lib/python3.11/site-packages/sklearn/utils/_set_output.py:295\u001b[0m, in \u001b[0;36m_wrap_method_output.<locals>.wrapped\u001b[0;34m(self, X, *args, **kwargs)\u001b[0m\n\u001b[1;32m    293\u001b[0m \u001b[38;5;129m@wraps\u001b[39m(f)\n\u001b[1;32m    294\u001b[0m \u001b[38;5;28;01mdef\u001b[39;00m \u001b[38;5;21mwrapped\u001b[39m(\u001b[38;5;28mself\u001b[39m, X, \u001b[38;5;241m*\u001b[39margs, \u001b[38;5;241m*\u001b[39m\u001b[38;5;241m*\u001b[39mkwargs):\n\u001b[0;32m--> 295\u001b[0m     data_to_wrap \u001b[38;5;241m=\u001b[39m \u001b[43mf\u001b[49m\u001b[43m(\u001b[49m\u001b[38;5;28;43mself\u001b[39;49m\u001b[43m,\u001b[49m\u001b[43m \u001b[49m\u001b[43mX\u001b[49m\u001b[43m,\u001b[49m\u001b[43m \u001b[49m\u001b[38;5;241;43m*\u001b[39;49m\u001b[43margs\u001b[49m\u001b[43m,\u001b[49m\u001b[43m \u001b[49m\u001b[38;5;241;43m*\u001b[39;49m\u001b[38;5;241;43m*\u001b[39;49m\u001b[43mkwargs\u001b[49m\u001b[43m)\u001b[49m\n\u001b[1;32m    296\u001b[0m     \u001b[38;5;28;01mif\u001b[39;00m \u001b[38;5;28misinstance\u001b[39m(data_to_wrap, \u001b[38;5;28mtuple\u001b[39m):\n\u001b[1;32m    297\u001b[0m         \u001b[38;5;66;03m# only wrap the first output for cross decomposition\u001b[39;00m\n\u001b[1;32m    298\u001b[0m         return_tuple \u001b[38;5;241m=\u001b[39m (\n\u001b[1;32m    299\u001b[0m             _wrap_data_with_container(method, data_to_wrap[\u001b[38;5;241m0\u001b[39m], X, \u001b[38;5;28mself\u001b[39m),\n\u001b[1;32m    300\u001b[0m             \u001b[38;5;241m*\u001b[39mdata_to_wrap[\u001b[38;5;241m1\u001b[39m:],\n\u001b[1;32m    301\u001b[0m         )\n",
      "File \u001b[0;32m~/ML/Girafe/env/lib/python3.11/site-packages/sklearn/base.py:1474\u001b[0m, in \u001b[0;36m_fit_context.<locals>.decorator.<locals>.wrapper\u001b[0;34m(estimator, *args, **kwargs)\u001b[0m\n\u001b[1;32m   1467\u001b[0m     estimator\u001b[38;5;241m.\u001b[39m_validate_params()\n\u001b[1;32m   1469\u001b[0m \u001b[38;5;28;01mwith\u001b[39;00m config_context(\n\u001b[1;32m   1470\u001b[0m     skip_parameter_validation\u001b[38;5;241m=\u001b[39m(\n\u001b[1;32m   1471\u001b[0m         prefer_skip_nested_validation \u001b[38;5;129;01mor\u001b[39;00m global_skip_validation\n\u001b[1;32m   1472\u001b[0m     )\n\u001b[1;32m   1473\u001b[0m ):\n\u001b[0;32m-> 1474\u001b[0m     \u001b[38;5;28;01mreturn\u001b[39;00m \u001b[43mfit_method\u001b[49m\u001b[43m(\u001b[49m\u001b[43mestimator\u001b[49m\u001b[43m,\u001b[49m\u001b[43m \u001b[49m\u001b[38;5;241;43m*\u001b[39;49m\u001b[43margs\u001b[49m\u001b[43m,\u001b[49m\u001b[43m \u001b[49m\u001b[38;5;241;43m*\u001b[39;49m\u001b[38;5;241;43m*\u001b[39;49m\u001b[43mkwargs\u001b[49m\u001b[43m)\u001b[49m\n",
      "File \u001b[0;32m~/ML/Girafe/env/lib/python3.11/site-packages/sklearn/manifold/_t_sne.py:1136\u001b[0m, in \u001b[0;36mTSNE.fit_transform\u001b[0;34m(self, X, y)\u001b[0m\n\u001b[1;32m   1115\u001b[0m \u001b[38;5;250m\u001b[39m\u001b[38;5;124;03m\"\"\"Fit X into an embedded space and return that transformed output.\u001b[39;00m\n\u001b[1;32m   1116\u001b[0m \n\u001b[1;32m   1117\u001b[0m \u001b[38;5;124;03mParameters\u001b[39;00m\n\u001b[0;32m   (...)\u001b[0m\n\u001b[1;32m   1133\u001b[0m \u001b[38;5;124;03m    Embedding of the training data in low-dimensional space.\u001b[39;00m\n\u001b[1;32m   1134\u001b[0m \u001b[38;5;124;03m\"\"\"\u001b[39;00m\n\u001b[1;32m   1135\u001b[0m \u001b[38;5;28mself\u001b[39m\u001b[38;5;241m.\u001b[39m_check_params_vs_input(X)\n\u001b[0;32m-> 1136\u001b[0m embedding \u001b[38;5;241m=\u001b[39m \u001b[38;5;28;43mself\u001b[39;49m\u001b[38;5;241;43m.\u001b[39;49m\u001b[43m_fit\u001b[49m\u001b[43m(\u001b[49m\u001b[43mX\u001b[49m\u001b[43m)\u001b[49m\n\u001b[1;32m   1137\u001b[0m \u001b[38;5;28mself\u001b[39m\u001b[38;5;241m.\u001b[39membedding_ \u001b[38;5;241m=\u001b[39m embedding\n\u001b[1;32m   1138\u001b[0m \u001b[38;5;28;01mreturn\u001b[39;00m \u001b[38;5;28mself\u001b[39m\u001b[38;5;241m.\u001b[39membedding_\n",
      "File \u001b[0;32m~/ML/Girafe/env/lib/python3.11/site-packages/sklearn/manifold/_t_sne.py:1026\u001b[0m, in \u001b[0;36mTSNE._fit\u001b[0;34m(self, X, skip_num_points)\u001b[0m\n\u001b[1;32m   1020\u001b[0m \u001b[38;5;66;03m# Degrees of freedom of the Student's t-distribution. The suggestion\u001b[39;00m\n\u001b[1;32m   1021\u001b[0m \u001b[38;5;66;03m# degrees_of_freedom = n_components - 1 comes from\u001b[39;00m\n\u001b[1;32m   1022\u001b[0m \u001b[38;5;66;03m# \"Learning a Parametric Embedding by Preserving Local Structure\"\u001b[39;00m\n\u001b[1;32m   1023\u001b[0m \u001b[38;5;66;03m# Laurens van der Maaten, 2009.\u001b[39;00m\n\u001b[1;32m   1024\u001b[0m degrees_of_freedom \u001b[38;5;241m=\u001b[39m \u001b[38;5;28mmax\u001b[39m(\u001b[38;5;28mself\u001b[39m\u001b[38;5;241m.\u001b[39mn_components \u001b[38;5;241m-\u001b[39m \u001b[38;5;241m1\u001b[39m, \u001b[38;5;241m1\u001b[39m)\n\u001b[0;32m-> 1026\u001b[0m \u001b[38;5;28;01mreturn\u001b[39;00m \u001b[38;5;28;43mself\u001b[39;49m\u001b[38;5;241;43m.\u001b[39;49m\u001b[43m_tsne\u001b[49m\u001b[43m(\u001b[49m\n\u001b[1;32m   1027\u001b[0m \u001b[43m    \u001b[49m\u001b[43mP\u001b[49m\u001b[43m,\u001b[49m\n\u001b[1;32m   1028\u001b[0m \u001b[43m    \u001b[49m\u001b[43mdegrees_of_freedom\u001b[49m\u001b[43m,\u001b[49m\n\u001b[1;32m   1029\u001b[0m \u001b[43m    \u001b[49m\u001b[43mn_samples\u001b[49m\u001b[43m,\u001b[49m\n\u001b[1;32m   1030\u001b[0m \u001b[43m    \u001b[49m\u001b[43mX_embedded\u001b[49m\u001b[38;5;241;43m=\u001b[39;49m\u001b[43mX_embedded\u001b[49m\u001b[43m,\u001b[49m\n\u001b[1;32m   1031\u001b[0m \u001b[43m    \u001b[49m\u001b[43mneighbors\u001b[49m\u001b[38;5;241;43m=\u001b[39;49m\u001b[43mneighbors_nn\u001b[49m\u001b[43m,\u001b[49m\n\u001b[1;32m   1032\u001b[0m \u001b[43m    \u001b[49m\u001b[43mskip_num_points\u001b[49m\u001b[38;5;241;43m=\u001b[39;49m\u001b[43mskip_num_points\u001b[49m\u001b[43m,\u001b[49m\n\u001b[1;32m   1033\u001b[0m \u001b[43m\u001b[49m\u001b[43m)\u001b[49m\n",
      "File \u001b[0;32m~/ML/Girafe/env/lib/python3.11/site-packages/sklearn/manifold/_t_sne.py:1094\u001b[0m, in \u001b[0;36mTSNE._tsne\u001b[0;34m(self, P, degrees_of_freedom, n_samples, X_embedded, neighbors, skip_num_points)\u001b[0m\n\u001b[1;32m   1092\u001b[0m     opt_args[\u001b[38;5;124m\"\u001b[39m\u001b[38;5;124mmomentum\u001b[39m\u001b[38;5;124m\"\u001b[39m] \u001b[38;5;241m=\u001b[39m \u001b[38;5;241m0.8\u001b[39m\n\u001b[1;32m   1093\u001b[0m     opt_args[\u001b[38;5;124m\"\u001b[39m\u001b[38;5;124mn_iter_without_progress\u001b[39m\u001b[38;5;124m\"\u001b[39m] \u001b[38;5;241m=\u001b[39m \u001b[38;5;28mself\u001b[39m\u001b[38;5;241m.\u001b[39mn_iter_without_progress\n\u001b[0;32m-> 1094\u001b[0m     params, kl_divergence, it \u001b[38;5;241m=\u001b[39m \u001b[43m_gradient_descent\u001b[49m\u001b[43m(\u001b[49m\u001b[43mobj_func\u001b[49m\u001b[43m,\u001b[49m\u001b[43m \u001b[49m\u001b[43mparams\u001b[49m\u001b[43m,\u001b[49m\u001b[43m \u001b[49m\u001b[38;5;241;43m*\u001b[39;49m\u001b[38;5;241;43m*\u001b[39;49m\u001b[43mopt_args\u001b[49m\u001b[43m)\u001b[49m\n\u001b[1;32m   1096\u001b[0m \u001b[38;5;66;03m# Save the final number of iterations\u001b[39;00m\n\u001b[1;32m   1097\u001b[0m \u001b[38;5;28mself\u001b[39m\u001b[38;5;241m.\u001b[39mn_iter_ \u001b[38;5;241m=\u001b[39m it\n",
      "File \u001b[0;32m~/ML/Girafe/env/lib/python3.11/site-packages/sklearn/manifold/_t_sne.py:402\u001b[0m, in \u001b[0;36m_gradient_descent\u001b[0;34m(objective, p0, it, n_iter, n_iter_check, n_iter_without_progress, momentum, learning_rate, min_gain, min_grad_norm, verbose, args, kwargs)\u001b[0m\n\u001b[1;32m    399\u001b[0m \u001b[38;5;66;03m# only compute the error when needed\u001b[39;00m\n\u001b[1;32m    400\u001b[0m kwargs[\u001b[38;5;124m\"\u001b[39m\u001b[38;5;124mcompute_error\u001b[39m\u001b[38;5;124m\"\u001b[39m] \u001b[38;5;241m=\u001b[39m check_convergence \u001b[38;5;129;01mor\u001b[39;00m i \u001b[38;5;241m==\u001b[39m n_iter \u001b[38;5;241m-\u001b[39m \u001b[38;5;241m1\u001b[39m\n\u001b[0;32m--> 402\u001b[0m error, grad \u001b[38;5;241m=\u001b[39m \u001b[43mobjective\u001b[49m\u001b[43m(\u001b[49m\u001b[43mp\u001b[49m\u001b[43m,\u001b[49m\u001b[43m \u001b[49m\u001b[38;5;241;43m*\u001b[39;49m\u001b[43margs\u001b[49m\u001b[43m,\u001b[49m\u001b[43m \u001b[49m\u001b[38;5;241;43m*\u001b[39;49m\u001b[38;5;241;43m*\u001b[39;49m\u001b[43mkwargs\u001b[49m\u001b[43m)\u001b[49m\n\u001b[1;32m    404\u001b[0m inc \u001b[38;5;241m=\u001b[39m update \u001b[38;5;241m*\u001b[39m grad \u001b[38;5;241m<\u001b[39m \u001b[38;5;241m0.0\u001b[39m\n\u001b[1;32m    405\u001b[0m dec \u001b[38;5;241m=\u001b[39m np\u001b[38;5;241m.\u001b[39minvert(inc)\n",
      "File \u001b[0;32m~/ML/Girafe/env/lib/python3.11/site-packages/sklearn/manifold/_t_sne.py:283\u001b[0m, in \u001b[0;36m_kl_divergence_bh\u001b[0;34m(params, P, degrees_of_freedom, n_samples, n_components, angle, skip_num_points, verbose, compute_error, num_threads)\u001b[0m\n\u001b[1;32m    280\u001b[0m indptr \u001b[38;5;241m=\u001b[39m P\u001b[38;5;241m.\u001b[39mindptr\u001b[38;5;241m.\u001b[39mastype(np\u001b[38;5;241m.\u001b[39mint64, copy\u001b[38;5;241m=\u001b[39m\u001b[38;5;28;01mFalse\u001b[39;00m)\n\u001b[1;32m    282\u001b[0m grad \u001b[38;5;241m=\u001b[39m np\u001b[38;5;241m.\u001b[39mzeros(X_embedded\u001b[38;5;241m.\u001b[39mshape, dtype\u001b[38;5;241m=\u001b[39mnp\u001b[38;5;241m.\u001b[39mfloat32)\n\u001b[0;32m--> 283\u001b[0m error \u001b[38;5;241m=\u001b[39m \u001b[43m_barnes_hut_tsne\u001b[49m\u001b[38;5;241;43m.\u001b[39;49m\u001b[43mgradient\u001b[49m\u001b[43m(\u001b[49m\n\u001b[1;32m    284\u001b[0m \u001b[43m    \u001b[49m\u001b[43mval_P\u001b[49m\u001b[43m,\u001b[49m\n\u001b[1;32m    285\u001b[0m \u001b[43m    \u001b[49m\u001b[43mX_embedded\u001b[49m\u001b[43m,\u001b[49m\n\u001b[1;32m    286\u001b[0m \u001b[43m    \u001b[49m\u001b[43mneighbors\u001b[49m\u001b[43m,\u001b[49m\n\u001b[1;32m    287\u001b[0m \u001b[43m    \u001b[49m\u001b[43mindptr\u001b[49m\u001b[43m,\u001b[49m\n\u001b[1;32m    288\u001b[0m \u001b[43m    \u001b[49m\u001b[43mgrad\u001b[49m\u001b[43m,\u001b[49m\n\u001b[1;32m    289\u001b[0m \u001b[43m    \u001b[49m\u001b[43mangle\u001b[49m\u001b[43m,\u001b[49m\n\u001b[1;32m    290\u001b[0m \u001b[43m    \u001b[49m\u001b[43mn_components\u001b[49m\u001b[43m,\u001b[49m\n\u001b[1;32m    291\u001b[0m \u001b[43m    \u001b[49m\u001b[43mverbose\u001b[49m\u001b[43m,\u001b[49m\n\u001b[1;32m    292\u001b[0m \u001b[43m    \u001b[49m\u001b[43mdof\u001b[49m\u001b[38;5;241;43m=\u001b[39;49m\u001b[43mdegrees_of_freedom\u001b[49m\u001b[43m,\u001b[49m\n\u001b[1;32m    293\u001b[0m \u001b[43m    \u001b[49m\u001b[43mcompute_error\u001b[49m\u001b[38;5;241;43m=\u001b[39;49m\u001b[43mcompute_error\u001b[49m\u001b[43m,\u001b[49m\n\u001b[1;32m    294\u001b[0m \u001b[43m    \u001b[49m\u001b[43mnum_threads\u001b[49m\u001b[38;5;241;43m=\u001b[39;49m\u001b[43mnum_threads\u001b[49m\u001b[43m,\u001b[49m\n\u001b[1;32m    295\u001b[0m \u001b[43m\u001b[49m\u001b[43m)\u001b[49m\n\u001b[1;32m    296\u001b[0m c \u001b[38;5;241m=\u001b[39m \u001b[38;5;241m2.0\u001b[39m \u001b[38;5;241m*\u001b[39m (degrees_of_freedom \u001b[38;5;241m+\u001b[39m \u001b[38;5;241m1.0\u001b[39m) \u001b[38;5;241m/\u001b[39m degrees_of_freedom\n\u001b[1;32m    297\u001b[0m grad \u001b[38;5;241m=\u001b[39m grad\u001b[38;5;241m.\u001b[39mravel()\n",
      "\u001b[0;31mKeyboardInterrupt\u001b[0m: "
     ]
    }
   ],
   "source": [
    "tsne = TSNE(random_state=17)\n",
    "tsne_representation = tsne.fit_transform(X_train_scaled)\n",
    "plt.scatter(tsne_representation[:, 0], tsne_representation[:, 1]);"
   ]
  },
  {
   "cell_type": "markdown",
   "metadata": {},
   "source": [
    "<span style=\"color:orange\">\n",
    "Нешкалированные данные. <br/>\n",
    "Видно, что области изолированы и растянуты"
   ]
  },
  {
   "cell_type": "code",
   "execution_count": null,
   "metadata": {},
   "outputs": [],
   "source": [
    "tsne = TSNE(random_state=17)\n",
    "tsne_representation = tsne.fit_transform(X_train)\n",
    "plt.scatter(tsne_representation[:, 0], tsne_representation[:, 1]);"
   ]
  },
  {
   "cell_type": "markdown",
   "metadata": {
    "id": "kpAcHTeHzan7"
   },
   "source": [
    "## Обучение классификаторов\n",
    "\n",
    "В начале посмотрим, как работает подбор параметров по сетке и как влияет на качество разбиение выборки. Сейчас и далее будем рассматривать 2 алгоритма:\n",
    " - [kNN](http://scikit-learn.org/stable/modules/generated/sklearn.neighbors.KNeighborsClassifier.html)\n",
    " - [DecisonTree](http://scikit-learn.org/stable/modules/generated/sklearn.tree.DecisionTreeClassifier.html#sklearn.tree.DecisionTreeClassifier)"
   ]
  },
  {
   "cell_type": "markdown",
   "metadata": {
    "id": "ri4UoyZBzan8"
   },
   "source": [
    "Для начала выберем один гиперпараметр, который будем оптимизировать:\n",
    " - kNN — число соседей (*n_neighbors*)\n",
    " - DecisonTree — глубина дерева (*max_depth*)\n",
    " \n",
    "Остальные параметры оставляйте в значениях по умолчанию.\n",
    "\n",
    "Для каждого алгоритма подберите оптимальные значения указанных гиперпараметров. Постройте график среднего значения качества по кросс-валидации алгоритма при заданном значении гиперпараметра, на котором также отобразите доверительный интервал.\n",
    "\n",
    "Что вы можете сказать о получившихся графиках? Какой алгоритм справился лучше? Какой быстрее? Почему?"
   ]
  },
  {
   "cell_type": "code",
   "execution_count": 20,
   "metadata": {},
   "outputs": [],
   "source": [
    "def plot_res(score_res, b_par):\n",
    "    if (list(score_res['params'][1].keys())[0] == 'n_neighbors'):\n",
    "        name = 'n_neighbors'\n",
    "    else:\n",
    "        name = 'max_depth'\n",
    "    \n",
    "    dict_res = {}\n",
    "    dict_min = {}\n",
    "    dict_max = {}\n",
    "    for i in range(len(score_res['params'])):\n",
    "    #    list_res.append(score_res['params'][i]['n_neighbors'])\n",
    "        dict_res[score_res['params'][i][name]] = score_res['mean_test_score'][i]\n",
    "        dict_min[score_res['params'][i][name]] = score_res['mean_test_score'][i] - \\\n",
    "        score_res['std_test_score'][i]\n",
    "        dict_max[score_res['params'][i][name]] = score_res['mean_test_score'][i] + \\\n",
    "        score_res['std_test_score'][i]\n",
    "    \n",
    "    dict_res = dict(sorted(dict_res.items()))\n",
    "    dict_min = dict(sorted(dict_min.items()))\n",
    "    dict_max = dict(sorted(dict_max.items()))\n",
    "    \n",
    "    plt.plot(dict_res.items(), dict_res.values())\n",
    "    plt.plot(dict_min.items(), dict_min.values())\n",
    "    plt.plot(dict_max.items(), dict_max.values())\n",
    "    plt.xlabel('N') #Подпись для оси х\n",
    "    plt.ylabel('F1') #Подпись для оси y\n",
    "    plt.title('Plot of F1 for different N') #Название\n",
    "    plt.show()\n",
    "\n",
    "    print(b_par)\n",
    "    bpar_ind = score_res['params'].index(b_par)\n",
    "    print('Test score is:', score_res['mean_train_score'][bpar_ind])\n",
    "    print('Time fit is:', score_res['mean_fit_time'][bpar_ind])"
   ]
  },
  {
   "cell_type": "markdown",
   "metadata": {},
   "source": [
    "<span style=\"color:orange\">\n",
    "Построение модели KNN на нешкалированных признаках"
   ]
  },
  {
   "cell_type": "code",
   "execution_count": null,
   "metadata": {},
   "outputs": [],
   "source": [
    "knn_Knotscl = KNeighborsClassifier()\n",
    "\n",
    "hyper_param_knn_Knotscl = {\n",
    "'n_neighbors' : [5, 7, 9, 12, 15, 17, 20, 22, 25, 30, 45, 70, 80, 120]\n",
    "}\n",
    "clf_Knotscl = RandomizedSearchCV(knn_Knotscl, hyper_param_knn_Knotscl, cv=5, return_train_score=True)\n",
    "search_Knotscl= clf_Knotscl.fit(X_train, y_train)\n",
    "b_par_Knotscl = search_Knotscl.best_params_\n",
    "score_res_Knotscl = search_Knotscl.cv_results_"
   ]
  },
  {
   "cell_type": "code",
   "execution_count": null,
   "metadata": {
    "scrolled": true
   },
   "outputs": [],
   "source": [
    "plot_res(score_res_Knotscl, b_par_Knotscl)"
   ]
  },
  {
   "cell_type": "markdown",
   "metadata": {},
   "source": [
    "<span style=\"color:orange\">\n",
    "Построение модели KNN на шкалированных признаках"
   ]
  },
  {
   "cell_type": "code",
   "execution_count": null,
   "metadata": {
    "scrolled": true
   },
   "outputs": [],
   "source": [
    "knn_Kscl = KNeighborsClassifier()\n",
    "\n",
    "hyper_param_knn_Kscl = {\n",
    "'n_neighbors' : [5, 7, 9, 12, 15, 17, 20, 22, 25, 30, 45, 70, 80, 120]\n",
    "}\n",
    "clf_Kscl = RandomizedSearchCV(knn_Kscl, hyper_param_knn_Kscl, cv=5, return_train_score=True)\n",
    "search_Kscl = clf_Kscl.fit(X_train_scaled, y_train)\n",
    "b_par_Kscl = search_Kscl.best_params_\n",
    "score_res_Kscl = search_Kscl.cv_results_"
   ]
  },
  {
   "cell_type": "code",
   "execution_count": null,
   "metadata": {},
   "outputs": [],
   "source": [
    "plot_res(score_res, b_par)"
   ]
  },
  {
   "cell_type": "markdown",
   "metadata": {},
   "source": [
    "<span style=\"color:orange\">\n",
    "Построение модели Tree на нешкалированных признаках"
   ]
  },
  {
   "cell_type": "code",
   "execution_count": null,
   "metadata": {},
   "outputs": [],
   "source": [
    "tree_Tnotscl = DecisionTreeClassifier(criterion='gini')\n",
    "\n",
    "hyper_param_tree_Tnotscl = {\n",
    "'max_depth' : [1, 2, 4, 6, 8, 10, 12, 14, 15, 20]\n",
    "}\n",
    "\n",
    "clf_Tnotscl = RandomizedSearchCV(tree_Tnotscl, hyper_param_tree_Tnotscl, cv=5, return_train_score=True)\n",
    "search_Tnotscl = clf.fit(X_train, y_train)\n",
    "b_par_Tnotscl = search_Tnotscl.best_params_\n",
    "score_res_Tnotscl = search_Tnotscl.cv_results_"
   ]
  },
  {
   "cell_type": "code",
   "execution_count": null,
   "metadata": {},
   "outputs": [],
   "source": [
    "plot_res(score_res_Tnotscl, b_par_Tnotscl)"
   ]
  },
  {
   "cell_type": "markdown",
   "metadata": {},
   "source": [
    "<span style=\"color:orange\">\n",
    "Построение модели Tree на шкалированных признаках"
   ]
  },
  {
   "cell_type": "code",
   "execution_count": null,
   "metadata": {},
   "outputs": [],
   "source": [
    "tree_Tscl = DecisionTreeClassifier(criterion='gini')\n",
    "\n",
    "hyper_param_tree_Tscl = {\n",
    "'max_depth' : [1, 2, 4, 6, 8, 10, 12, 14, 15, 20]\n",
    "}\n",
    "\n",
    "clf_Tscl = RandomizedSearchCV(tree_Tscl, hyper_param_tree_Tscl, cv=5, return_train_score=True)\n",
    "search_Tscl = clf_Tscl.fit(X_train_scaled, y_train)\n",
    "b_par_Tscl = search_Tscl.best_params_\n",
    "score_res_Tscl = search_Tscl.cv_results_"
   ]
  },
  {
   "cell_type": "code",
   "execution_count": null,
   "metadata": {},
   "outputs": [],
   "source": [
    "plot_res(score_res_Tscl, b_par_Tscl)"
   ]
  },
  {
   "cell_type": "markdown",
   "metadata": {
    "jp-MarkdownHeadingCollapsed": true
   },
   "source": [
    "<span style=\"color:orange\">\n",
    "    \n",
    "### KNN ###\n",
    "Оптимальное число соседей около 20 - 25. F1=0,82 на шкалированных данных, прирост небольшой \n",
    "по сравнению с нешкалированными данными. На графиках видна кривая переобучения.   \n",
    "\n",
    "\n",
    "### KNN ###\n",
    "Оптимальная глубина дерева 6 - 7. F1=0,847 на нешкалированных данных. Шкалирование мало меняет \n",
    "точность работы алгоритма и время. На графиках видна кривая переобучения.\n",
    "\n",
    "### Итого ###\n",
    "Дерево на нешкалированных данных справилось лучше всего. \n",
    "KNN справился хуже, притом время больше на порядок по сравнению с деревом. <br/>\n",
    "Оптимальная глубина дерева - 7. До него недообучение, после него переобучение. Если отразить график, \n",
    "как раз получим кривую переобучения. <br/>\n",
    "По сути результат по времени ожидаемый, так как KNN считает все расстояния.\n",
    "\n"
   ]
  },
  {
   "cell_type": "markdown",
   "metadata": {
    "id": "ydm4FqI54F96"
   },
   "source": [
    "## PCA преобразование\n",
    "\n",
    "Теперь попробуем сделать преобразрование данных с помощью PCA. Выберите оптимальное количество компонент и преобразуйте данные. Объясните свой выбор."
   ]
  },
  {
   "cell_type": "code",
   "execution_count": 22,
   "metadata": {},
   "outputs": [],
   "source": [
    "u, Rs, vh = np.linalg.svd(X_train, full_matrices=False)\n",
    "u_s, Rs_s, vh_s = np.linalg.svd(X_train_scaled, full_matrices=False)\n",
    "u_t, Rs_t, vh_t = np.linalg.svd(X_test, full_matrices=False)\n",
    "u_ts, Rs_ts, vh_ts = np.linalg.svd(X_test_scaled, full_matrices=False)"
   ]
  },
  {
   "cell_type": "code",
   "execution_count": 25,
   "metadata": {},
   "outputs": [
    {
     "name": "stdout",
     "output_type": "stream",
     "text": [
      "[1.95782230e+02 1.62522854e+02 1.45237479e+02 1.32543699e+02\n",
      " 1.25777885e+02 1.21553148e+02 1.16557608e+02 1.14474707e+02\n",
      " 1.11358858e+02 1.10279589e+02 1.08645826e+02 1.05885310e+02\n",
      " 1.04588696e+02 1.03874372e+02 1.03420594e+02 1.02649238e+02\n",
      " 1.01817862e+02 1.01792016e+02 1.00885512e+02 1.00777923e+02\n",
      " 9.99295484e+01 9.90749905e+01 9.87542311e+01 9.81615079e+01\n",
      " 9.78250355e+01 9.76710419e+01 9.71373593e+01 9.70045280e+01\n",
      " 9.65871079e+01 9.61841489e+01 9.60229710e+01 9.59151438e+01\n",
      " 9.54139333e+01 9.52020417e+01 9.48993062e+01 9.39499012e+01\n",
      " 9.38912142e+01 9.34624052e+01 9.28275007e+01 9.26572129e+01\n",
      " 9.21692647e+01 9.15880783e+01 9.07208941e+01 8.95392190e+01\n",
      " 8.85296945e+01 8.73333801e+01 8.59794048e+01 8.28415536e+01\n",
      " 8.17013168e+01 7.85158796e+01 7.47597532e+01 6.76134357e+01\n",
      " 6.31381295e+01 5.68407433e+01 1.42049870e+01 8.68745028e-14\n",
      " 4.78462528e-14 4.03938281e-14 3.70526282e-14 3.01702542e-14\n",
      " 2.78471756e-14 2.33612858e-14]\n"
     ]
    }
   ],
   "source": [
    "print(Rs_s)"
   ]
  },
  {
   "cell_type": "code",
   "execution_count": 28,
   "metadata": {},
   "outputs": [
    {
     "data": {
      "image/png": "[encoded data removed]",
      "text/plain": [
       "<Figure size 640x480 with 1 Axes>"
      ]
     },
     "metadata": {},
     "output_type": "display_data"
    },
    {
     "data": {
      "image/png": "[encoded data removed]",
      "text/plain": [
       "<Figure size 640x480 with 1 Axes>"
      ]
     },
     "metadata": {},
     "output_type": "display_data"
    }
   ],
   "source": [
    "plt.plot(Rs,'go')\n",
    "plt.plot(Rs_s,'bo')\n",
    "plt.title('Train statistics')\n",
    "plt.legend(['Not Scaled', 'Scaled'], loc='upper right')\n",
    "plt.yscale('log')\n",
    "plt.ylabel(\"Singular values\")\n",
    "plt.xlabel(\"Singular value order\")\n",
    "plt.show()\n",
    "\n",
    "plt.plot(Rs_t,'go')\n",
    "plt.plot(Rs_ts,'bo')\n",
    "plt.title('Test statistics')\n",
    "plt.legend(['Not Scaled', 'Scaled'], loc='upper right')\n",
    "plt.yscale('log')\n",
    "plt.ylabel(\"Singular values\")\n",
    "plt.xlabel(\"Singular value order\")\n",
    "plt.show()"
   ]
  },
  {
   "cell_type": "markdown",
   "metadata": {},
   "source": [
    "<span style=\"color:orange\">\n",
    "Из графика видно, что можно убрать 6 сингулярных значений так как они малозначительны."
   ]
  },
  {
   "cell_type": "code",
   "execution_count": null,
   "metadata": {},
   "outputs": [],
   "source": [
    "k = 40\n",
    "\n",
    "pca_1 = PCA(n_components=k)\n",
    "pca_1.fit(X_train)\n",
    "X_train_pca = pca_1.transform(X_train)\n",
    "\n",
    "pca_2 = PCA(n_components=k)\n",
    "pca_2.fit(X_train_scaled)\n",
    "X_train_s_pca = pca_2.transform(X_train_scaled)\n",
    "\n",
    "pca_3 = PCA(n_components=k)\n",
    "pca_3.fit(X_test)\n",
    "X_test_pca = pca_3.transform(X_test)\n",
    "\n",
    "pca_4 = PCA(n_components=k)\n",
    "pca_4.fit(X_test_scaled)\n",
    "X_test_s_pca = pca_4.transform(X_test_scaled)\n",
    "\n",
    "\n",
    "\n",
    "\n",
    "# k = 2\n",
    "# Rs2 = Rs[:k]\n",
    "# Rs_s2 = Rs_s[:k]\n",
    "# Rs_t2 = Rs_t[:k]\n",
    "# Rs_ts2 = Rs_ts[:k]\n",
    "\n",
    "\n",
    "# X_train_pca = u[:, :k] @ np.diag(Rs2) @ vh[:k, :]\n",
    "# X_train_s_pca = u_s[:, :k] @ np.diag(Rs_s2) @ vh_s[:k, :]\n",
    "# X_test_pca = u_t[:, :k] @ np.diag(Rs_t2) @ vh_t[:k, :]\n",
    "# X_test_s_pca = u_ts[:, :k] @ np.diag(Rs_ts2) @ vh_ts[:k, :]"
   ]
  },
  {
   "cell_type": "markdown",
   "metadata": {
    "id": "S6B1nbVu6ekT"
   },
   "source": [
    "## Обучение классификаторов на данных, трансформированных с помощью PCA\n",
    "\n",
    "Обучим те же классификаторы на трансформированных с помощью PCA данных. Подберите оптимальные значения исследуемых гиперпараметров для новых данных. Постройте график среднего значения качества по кросс-валидации алгоритма при заданном значении гиперпараметра, на котором также отобразите доверительный интервал.\n",
    "\n",
    "Что вы можете сказать о получившихся графиках? Какой алгоритм справился лучше? Какой быстрее? Почему?"
   ]
  },
  {
   "cell_type": "markdown",
   "metadata": {},
   "source": [
    "<span style=\"color:orange\">\n",
    "Построение модели KNN на нешкалированных признаках после PCA"
   ]
  },
  {
   "cell_type": "code",
   "execution_count": 38,
   "metadata": {
    "id": "6pXGu0ZOyZjV"
   },
   "outputs": [],
   "source": [
    "knn_Knotscl_pca = KNeighborsClassifier()\n",
    "\n",
    "hyper_param_knn_Knotscl_pca = {\n",
    "'n_neighbors' : [5, 7, 9, 12, 15, 17, 20, 22, 25, 30, 45, 70, 80, 120]\n",
    "}\n",
    "clf_Knotscl_pca = RandomizedSearchCV(knn_Knotscl_pca, hyper_param_knn_Knotscl_pca, cv=5, return_train_score=True)\n",
    "search_Knotscl_pca= clf_Knotscl_pca.fit(X_train_s_pca, y_train)\n",
    "b_par_Knotscl_pca = search_Knotscl_pca.best_params_\n",
    "score_res_Knotscl_pca = search_Knotscl_pca.cv_results_"
   ]
  },
  {
   "cell_type": "code",
   "execution_count": 39,
   "metadata": {},
   "outputs": [
    {
     "name": "stdout",
     "output_type": "stream",
     "text": [
      "(9201, 1)\n"
     ]
    }
   ],
   "source": [
    "print(X_train_pca.shape)"
   ]
  },
  {
   "cell_type": "code",
   "execution_count": 40,
   "metadata": {
    "scrolled": true
   },
   "outputs": [
    {
     "data": {
      "image/png": "[encoded data removed]",
      "text/plain": [
       "<Figure size 640x480 with 1 Axes>"
      ]
     },
     "metadata": {},
     "output_type": "display_data"
    },
    {
     "name": "stdout",
     "output_type": "stream",
     "text": [
      "{'n_neighbors': 120}\n",
      "Test score is: 0.7966796180516588\n",
      "Time fit is: 0.003492879867553711\n"
     ]
    }
   ],
   "source": [
    "plot_res(score_res_Knotscl_pca, b_par_Knotscl_pca)"
   ]
  },
  {
   "cell_type": "code",
   "execution_count": 25,
   "metadata": {},
   "outputs": [],
   "source": [
    "Model = KNeighborsClassifier(n_neighbors=20)   #b_par['n_neighbors'])\n",
    "Model = Model.fit(X_train_pca, y_train)\n",
    "y_pred_pca = Model.predict(X_test_pca)"
   ]
  },
  {
   "cell_type": "code",
   "execution_count": 26,
   "metadata": {},
   "outputs": [
    {
     "name": "stdout",
     "output_type": "stream",
     "text": [
      "Accuracy_score: 0.7777958917508967\n",
      "F1 micro: 0.7777958917508967\n",
      "F1 macro: 0.5593213120569338\n"
     ]
    }
   ],
   "source": [
    "#print(b_par)\n",
    "Ac = accuracy_score(y_test, y_pred_pca)\n",
    "print('Accuracy_score:', Ac)\n",
    "F1_1 = f1_score(y_test, y_pred_pca, average='micro')\n",
    "print('F1 micro:', F1_1)\n",
    "F1_2 = f1_score(y_test, y_pred_pca, average='macro')\n",
    "print('F1 macro:', F1_2)"
   ]
  },
  {
   "cell_type": "markdown",
   "metadata": {
    "id": "V6SPsE847Ejl"
   },
   "source": [
    "## Сравнение результатов\n",
    "\n",
    "Сравните результаты полученные до трансформации данных с помощью PCA и после. Есть ли изменения динамики среднего значения качества по кросс-валидации алгоритма? Объясните почему?"
   ]
  },
  {
   "cell_type": "code",
   "execution_count": 76,
   "metadata": {
    "id": "V8dBsq4qilOp"
   },
   "outputs": [],
   "source": [
    "# your code here"
   ]
  },
  {
   "cell_type": "markdown",
   "metadata": {
    "id": "zUwFUddE9hGS"
   },
   "source": [
    "## Тестирование всех модели\n",
    "\n",
    "Протестируйте все построенные модели (в т.ч. с и без PCA трансформации) на данных, которые были отложены для теста (их должно было остаться 40%). Не забудьте про все необходимые преобразования."
   ]
  },
  {
   "cell_type": "code",
   "execution_count": null,
   "metadata": {
    "id": "aClWETCs9wgS"
   },
   "outputs": [],
   "source": [
    "current_time = time.time()\n",
    "\n",
    "knn_best = KNeighborsClassifier(n_neighbors=b_par['n_neighbors'])\n",
    "Model_best = knn_best.fit(X_train, y_train)\n",
    "y_pred = Model_best.predict(X_test)\n",
    "\n",
    "time_all = time.time() - current_time"
   ]
  },
  {
   "cell_type": "code",
   "execution_count": null,
   "metadata": {},
   "outputs": [],
   "source": [
    "current_time = time.time()\n",
    "\n",
    "knn_best = KNeighborsClassifier(n_neighbors=b_par['n_neighbors'])\n",
    "Model_best = knn_best.fit(X_train_scaled, y_train)\n",
    "y_pred = Model_best.predict(X_test_scaled)\n",
    "\n",
    "time_all = time.time() - current_time"
   ]
  },
  {
   "cell_type": "code",
   "execution_count": null,
   "metadata": {},
   "outputs": [],
   "source": [
    "current_time = time.time()\n",
    "\n",
    "tree_best = DecisionTreeClassifier(criterion='gini', max_depth=b_par['max_depth'])\n",
    "Model_best = tree_best.fit(X_train, y_train)\n",
    "y_pred = Model_best.predict(X_test)\n",
    "\n",
    "y_pred_proba = Model_best.predict_proba(X_test)"
   ]
  },
  {
   "cell_type": "code",
   "execution_count": null,
   "metadata": {},
   "outputs": [],
   "source": [
    "current_time = time.time()\n",
    "\n",
    "tree_best = DecisionTreeClassifier(criterion='gini', max_depth=b_par['max_depth'])\n",
    "Model_best = tree_best.fit(X_train_scaled, y_train)\n",
    "y_pred = Model_best.predict(X_test_scaled)\n",
    "\n",
    "y_pred_proba = Model_best.predict_proba(X_test_scaled)\n",
    "\n",
    "time_all = time.time() - current_time"
   ]
  }
 ],
 "metadata": {
  "anaconda-cloud": {},
  "colab": {
   "collapsed_sections": [
    "-rX8cvHCzany"
   ],
   "provenance": []
  },
  "kernelspec": {
   "display_name": "Python 3 (ipykernel)",
   "language": "python",
   "name": "python3"
  },
  "language_info": {
   "codemirror_mode": {
    "name": "ipython",
    "version": 3
   },
   "file_extension": ".py",
   "mimetype": "text/x-python",
   "name": "python",
   "nbconvert_exporter": "python",
   "pygments_lexer": "ipython3",
   "version": "3.11.0rc1"
  }
 },
 "nbformat": 4,
 "nbformat_minor": 4
}
